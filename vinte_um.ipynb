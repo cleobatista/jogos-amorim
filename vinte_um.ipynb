{
 "cells": [
  {
   "cell_type": "code",
   "execution_count": 21,
   "metadata": {},
   "outputs": [],
   "source": [
    "from random import randint"
   ]
  },
  {
   "cell_type": "code",
   "execution_count": 22,
   "metadata": {},
   "outputs": [],
   "source": [
    "def tira_carta():\n",
    "    return randint(1,10)"
   ]
  },
  {
   "cell_type": "code",
   "execution_count": 23,
   "metadata": {},
   "outputs": [
    {
     "data": {
      "text/plain": [
       "8"
      ]
     },
     "execution_count": 23,
     "metadata": {},
     "output_type": "execute_result"
    }
   ],
   "source": [
    "tira_carta()"
   ]
  },
  {
   "cell_type": "code",
   "execution_count": 42,
   "metadata": {},
   "outputs": [],
   "source": [
    "def rodada(jogadores):\n",
    "    lista_ordenada = sorted(jogadores, key=jogadores.get)\n",
    "    jogadores = {jogador:jogadores[jogador] for jogador in lista_ordenada}\n",
    "        \n",
    "    perdedores = []\n",
    "    for jogador in jogadores.keys():\n",
    "        continua = input(f\"{jogador} quer continuar? Qualquer letra para sim, vazio para não: \")\n",
    "        if continua:\n",
    "            carta = tira_carta()\n",
    "            jogadores[jogador] += carta\n",
    "            if jogadores[jogador] == 21:\n",
    "                print(f\"Parabéns {jogadores[jogador]}! você ganhou com 21 pontos!\")\n",
    "                return {jogador: 21}\n",
    "            elif jogadores[jogador] > 21:\n",
    "                print(f\"Que pena {jogadores[jogador]}! Você tirou {carta} e estourou nos pontos...\")\n",
    "                perdedores.append(jogador)\n",
    "    \n",
    "    for perdedor in perdedores:\n",
    "        del jogadores[perdedor]\n",
    "    return jogadores"
   ]
  },
  {
   "cell_type": "code",
   "execution_count": 43,
   "metadata": {},
   "outputs": [],
   "source": [
    "def vinte_um():\n",
    "    jogadores = {}\n",
    "    participante = True\n",
    "    while participante:\n",
    "        participante = input('Inclua mais um participante ou vazio para concluir: ')\n",
    "        if participante:\n",
    "            jogadores[participante] = 0\n",
    "    for jogador in jogadores.keys():\n",
    "        carta_1 = tira_carta()\n",
    "        carta_2 = tira_carta()\n",
    "        jogadores[jogador] = carta_1 + carta_2\n",
    "        print(f\"{jogador} tirou as cartas {carta_1} e {carta_2}, totalizando {jogadores[jogador]}\")\n",
    "        \n",
    "    while len(jogadores.keys()) > 1:\n",
    "        jogadores = rodada(jogadores)\n",
    "    \n",
    "    print(jogadores)\n",
    "    vencedor = max(jogadores, key=jogadores.get)\n",
    "    print(f\"Parabéns {vencedor}, você ganhou com {jogadores[vencedor]} pontos!\")\n",
    "    return\n",
    "                "
   ]
  },
  {
   "cell_type": "code",
   "execution_count": 44,
   "metadata": {
    "scrolled": false
   },
   "outputs": [
    {
     "name": "stdout",
     "output_type": "stream",
     "text": [
      "Inclua mais um participante ou vazio para concluir: Iris\n",
      "Inclua mais um participante ou vazio para concluir: João\n",
      "Inclua mais um participante ou vazio para concluir: Evelin\n",
      "Inclua mais um participante ou vazio para concluir: Raul\n",
      "Inclua mais um participante ou vazio para concluir: Katia\n",
      "Inclua mais um participante ou vazio para concluir: Cleo\n",
      "Inclua mais um participante ou vazio para concluir: \n",
      "Iris tirou as cartas 9 e 2, totalizando 11\n",
      "João tirou as cartas 3 e 4, totalizando 7\n",
      "Evelin tirou as cartas 1 e 7, totalizando 8\n",
      "Raul tirou as cartas 6 e 3, totalizando 9\n",
      "Katia tirou as cartas 9 e 8, totalizando 17\n",
      "Cleo tirou as cartas 5 e 2, totalizando 7\n",
      "João quer continuar? Qualquer letra para sim, vazio para não: a\n",
      "Cleo quer continuar? Qualquer letra para sim, vazio para não: z\n",
      "Evelin quer continuar? Qualquer letra para sim, vazio para não: a\n",
      "Raul quer continuar? Qualquer letra para sim, vazio para não: a\n",
      "Iris quer continuar? Qualquer letra para sim, vazio para não: a\n",
      "Katia quer continuar? Qualquer letra para sim, vazio para não: \n",
      "João quer continuar? Qualquer letra para sim, vazio para não: \n",
      "Evelin quer continuar? Qualquer letra para sim, vazio para não: a\n",
      "Raul quer continuar? Qualquer letra para sim, vazio para não: a\n",
      "Parabéns 21! você ganhou com 21 pontos!\n"
     ]
    },
    {
     "ename": "AttributeError",
     "evalue": "'NoneType' object has no attribute 'keys'",
     "output_type": "error",
     "traceback": [
      "\u001b[0;31m---------------------------------------------------------------------------\u001b[0m",
      "\u001b[0;31mAttributeError\u001b[0m                            Traceback (most recent call last)",
      "\u001b[0;32m<ipython-input-44-996dd99f1758>\u001b[0m in \u001b[0;36m<module>\u001b[0;34m\u001b[0m\n\u001b[0;32m----> 1\u001b[0;31m \u001b[0mvinte_um\u001b[0m\u001b[0;34m(\u001b[0m\u001b[0;34m)\u001b[0m\u001b[0;34m\u001b[0m\u001b[0;34m\u001b[0m\u001b[0m\n\u001b[0m",
      "\u001b[0;32m<ipython-input-43-c13f34d3874b>\u001b[0m in \u001b[0;36mvinte_um\u001b[0;34m()\u001b[0m\n\u001b[1;32m     12\u001b[0m         \u001b[0mprint\u001b[0m\u001b[0;34m(\u001b[0m\u001b[0;34mf\"{jogador} tirou as cartas {carta_1} e {carta_2}, totalizando {jogadores[jogador]}\"\u001b[0m\u001b[0;34m)\u001b[0m\u001b[0;34m\u001b[0m\u001b[0;34m\u001b[0m\u001b[0m\n\u001b[1;32m     13\u001b[0m \u001b[0;34m\u001b[0m\u001b[0m\n\u001b[0;32m---> 14\u001b[0;31m     \u001b[0;32mwhile\u001b[0m \u001b[0mlen\u001b[0m\u001b[0;34m(\u001b[0m\u001b[0mjogadores\u001b[0m\u001b[0;34m.\u001b[0m\u001b[0mkeys\u001b[0m\u001b[0;34m(\u001b[0m\u001b[0;34m)\u001b[0m\u001b[0;34m)\u001b[0m \u001b[0;34m>\u001b[0m \u001b[0;36m1\u001b[0m\u001b[0;34m:\u001b[0m\u001b[0;34m\u001b[0m\u001b[0;34m\u001b[0m\u001b[0m\n\u001b[0m\u001b[1;32m     15\u001b[0m         \u001b[0mjogadores\u001b[0m \u001b[0;34m=\u001b[0m \u001b[0mrodada\u001b[0m\u001b[0;34m(\u001b[0m\u001b[0mjogadores\u001b[0m\u001b[0;34m)\u001b[0m\u001b[0;34m\u001b[0m\u001b[0;34m\u001b[0m\u001b[0m\n\u001b[1;32m     16\u001b[0m \u001b[0;34m\u001b[0m\u001b[0m\n",
      "\u001b[0;31mAttributeError\u001b[0m: 'NoneType' object has no attribute 'keys'"
     ]
    }
   ],
   "source": [
    "vinte_um()"
   ]
  },
  {
   "cell_type": "code",
   "execution_count": 35,
   "metadata": {},
   "outputs": [
    {
     "data": {
      "text/plain": [
       "['b', 'a', 'c']"
      ]
     },
     "execution_count": 35,
     "metadata": {},
     "output_type": "execute_result"
    }
   ],
   "source": [
    "dic = {'a': 2, 'b': 1, 'c': 4}\n",
    "sorted(dic, key=dic.get)"
   ]
  },
  {
   "cell_type": "code",
   "execution_count": null,
   "metadata": {},
   "outputs": [],
   "source": []
  }
 ],
 "metadata": {
  "kernelspec": {
   "display_name": "Python 3",
   "language": "python",
   "name": "python3"
  },
  "language_info": {
   "codemirror_mode": {
    "name": "ipython",
    "version": 3
   },
   "file_extension": ".py",
   "mimetype": "text/x-python",
   "name": "python",
   "nbconvert_exporter": "python",
   "pygments_lexer": "ipython3",
   "version": "3.8.5"
  }
 },
 "nbformat": 4,
 "nbformat_minor": 4
}
